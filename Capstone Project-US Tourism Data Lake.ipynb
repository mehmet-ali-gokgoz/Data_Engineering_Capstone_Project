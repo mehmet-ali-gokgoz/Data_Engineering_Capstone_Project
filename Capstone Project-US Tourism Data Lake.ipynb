{
 "cells": [
  {
   "cell_type": "markdown",
   "metadata": {
    "editable": true
   },
   "source": [
    "# Udacity Capstone: US Tourism Data Lake\n",
    "## Data Engineering Capstone Project\n",
    "The Project is an exercise to practice what I have learnt through Udacity Data Engineering Program.\n",
    "I chose to use given datasets to build a Data Lake.\n",
    "\n",
    "## Structure of the Project\n",
    "\n",
    "Following the Udacity guide for this project, the structure is as shown below:\n",
    "\n",
    "- Step 1: Scope the Project and Gather Data\n",
    "- Step 2: Explore and Assess the Data\n",
    "- Step 3: Define the Data Model\n",
    "- Step 4: Run ETL to Model the Data\n",
    "- Step 5: Complete Project Write Up\n"
   ]
  },
  {
   "cell_type": "code",
   "execution_count": 1,
   "metadata": {
    "editable": true
   },
   "outputs": [],
   "source": [
    "# Do all imports and installs here\n",
    "from datetime import datetime, timedelta\n",
    "from pyspark.sql import SparkSession\n",
    "from pyspark.sql.functions import split, regexp_replace, countDistinct, \\\n",
    "                                  year, month, col, mean, desc, udf, first"
   ]
  },
  {
   "cell_type": "markdown",
   "metadata": {
    "editable": true
   },
   "source": [
    "### Step 1: Scope the Project and Gather Data\n",
    "\n",
    "#### Scope \n",
    "Scenario: Tourism Agency Sales team would like to plan their advertisement budget by Analytic department's recommendation. The relation between the US cities and visitor's profile is the key value for Sales team. Data Analyst and Data Scientists define their goal to find out:\n",
    "   - Correlation between US Cities temperature and Visitor's Residency Country temperature\n",
    "   - Correlation between US Cities demography and Visitor's Nationality\n",
    "   - How to categorise the Visitors profile by US cities\n",
    "   - Is there trend (weekly, monthly, quarterly) \n",
    "\n",
    "Data Engineer makes a data lake with a proper data model that makes easy to understand and access.\n",
    "\n",
    "#### Describe and Gather Data \n",
    "\n",
    "In order to satisfy the goal, it requires information about US visitors, US Cities demography, the temperature of US cities and other Countries.\n",
    "\n",
    "#### Data Source:\n",
    "   - I94 Immigration: Non-U.S. Resident Visitor Arrivals to the United States are registered and anonymous information are available in National Travel and Tourism Office website(https://www.trade.gov/i-94-arrivals-program) The immigration data includes massive information and millions of visitors’ registry per month. This dataset is a major source to extract Visitors profiles. \n",
    "   - I94 SAS LABELS DESCRIPTIONS: This is given by the project, It is an SAS label description file that includes I94 Immigration datasets description and supplementary information about the codes used in the datasets. \n",
    "   - World Temperature Data: This dataset came from Kaggle. The data source is (https://www.kaggle.com/berkeleyearth/climate-change-earth-surface-temperature-data). The dataset includes Country, City average temperature as daily basis. This dataset is useful to extract average temperature for US cities and Visitors' countries. \n",
    "   - U.S. City Demographic Data: This data comes from OpenSoft. The data source is (https://public.opendatasoft.com/explore/dataset/us-cities-demographics/export/). The dataset includes population details and different races count for each US cities. This dataset is useful to extract Cities demography.\n",
    "   \n",
    "#### Tools\n",
    "It is written in python programming language with pyspark libraries to get benefit of Apache Spark. This solution is designed to run on Amazon Web Services cloud and to store Apache Parquet files on AWS S3 Buckets. "
   ]
  },
  {
   "cell_type": "code",
   "execution_count": 2,
   "metadata": {
    "editable": true
   },
   "outputs": [],
   "source": [
    "# Build a spark session\n",
    "spark = SparkSession \\\n",
    "    .builder \\\n",
    "    .config(\"spark.jars.repositories\",\n",
    "            \"https://repos.spark-packages.org/\") \\\n",
    "    .config(\"spark.jars.packages\",\n",
    "            \"saurfang:spark-sas7bdat:2.0.0-s_2.11\") \\\n",
    "    .enableHiveSupport() \\\n",
    "    .getOrCreate()"
   ]
  },
  {
   "cell_type": "code",
   "execution_count": 3,
   "metadata": {
    "editable": true
   },
   "outputs": [],
   "source": [
    "# Read immigration file\n",
    "immigration_file = '../../data/18-83510-I94-Data-2016/i94_apr16_sub.sas7bdat'\n",
    "df_immigrations = spark.read.format('com.github.saurfang.sas.spark') \\\n",
    "        .load(immigration_file)"
   ]
  },
  {
   "cell_type": "code",
   "execution_count": 4,
   "metadata": {
    "editable": true
   },
   "outputs": [],
   "source": [
    "# Read temperatures data file\n",
    "temperature_file = '../../data2/GlobalLandTemperaturesByCity.csv'\n",
    "df_temperatures = spark.read.format('csv') \\\n",
    "                            .option(\"header\", True) \\\n",
    "                            .load(temperature_file)"
   ]
  },
  {
   "cell_type": "code",
   "execution_count": 5,
   "metadata": {
    "editable": true
   },
   "outputs": [],
   "source": [
    "# Read cities demographic data file\n",
    "cities_demographic_file = './us-cities-demographics.csv'\n",
    "df_cities_demographic = spark.read.format('csv') \\\n",
    "    .options(header='True', delimiter=';').load(cities_demographic_file)"
   ]
  },
  {
   "cell_type": "code",
   "execution_count": 6,
   "metadata": {
    "editable": true
   },
   "outputs": [],
   "source": [
    "# Read i94 sas labels descriptions file\n",
    "i94_sas_labels_descriptions_file = './I94_SAS_Labels_Descriptions.SAS'\n",
    "text_i94_sas_labels_descriptions = open(i94_sas_labels_descriptions_file,'r').read()"
   ]
  },
  {
   "cell_type": "markdown",
   "metadata": {
    "editable": true
   },
   "source": [
    "### Step 2: Explore and Assess the Data\n",
    "#### Explore the Data \n",
    "In order to identify data quality issues, these spark functions are used:\n",
    "- show(10) first 10 rows to review\n",
    "- printSchema() to observe data types\n",
    "- summary().show() to basic data statistic to understand dataset.\n",
    "- countDistinct() to count unique values on spesific columns.\n",
    "\n",
    "#### Cleaning Steps\n",
    "In order to clean the data, these spark functions are used:\n",
    "- na.drop() to drop rows that has na values on specified columns.\n",
    "- filter() to narrow down data to target information.\n",
    "- dropDuplicates() to drop duplicated row based on specifide columns.\n",
    "- isNotNull() to filter out null rows for targeted columns."
   ]
  },
  {
   "cell_type": "markdown",
   "metadata": {
    "editable": true
   },
   "source": [
    "#### TEMPERATURES DATA"
   ]
  },
  {
   "cell_type": "code",
   "execution_count": 7,
   "metadata": {
    "editable": true
   },
   "outputs": [
    {
     "name": "stdout",
     "output_type": "stream",
     "text": [
      "+----------+------------------+-----------------------------+-----+-------+--------+---------+\n",
      "|        dt|AverageTemperature|AverageTemperatureUncertainty| City|Country|Latitude|Longitude|\n",
      "+----------+------------------+-----------------------------+-----+-------+--------+---------+\n",
      "|1743-11-01|             6.068|           1.7369999999999999|Århus|Denmark|  57.05N|   10.33E|\n",
      "|1743-12-01|              null|                         null|Århus|Denmark|  57.05N|   10.33E|\n",
      "|1744-01-01|              null|                         null|Århus|Denmark|  57.05N|   10.33E|\n",
      "|1744-02-01|              null|                         null|Århus|Denmark|  57.05N|   10.33E|\n",
      "|1744-03-01|              null|                         null|Århus|Denmark|  57.05N|   10.33E|\n",
      "|1744-04-01|5.7879999999999985|           3.6239999999999997|Århus|Denmark|  57.05N|   10.33E|\n",
      "|1744-05-01|            10.644|           1.2830000000000001|Århus|Denmark|  57.05N|   10.33E|\n",
      "|1744-06-01|14.050999999999998|                        1.347|Århus|Denmark|  57.05N|   10.33E|\n",
      "|1744-07-01|            16.082|                        1.396|Århus|Denmark|  57.05N|   10.33E|\n",
      "|1744-08-01|              null|                         null|Århus|Denmark|  57.05N|   10.33E|\n",
      "+----------+------------------+-----------------------------+-----+-------+--------+---------+\n",
      "only showing top 10 rows\n",
      "\n",
      "root\n",
      " |-- dt: string (nullable = true)\n",
      " |-- AverageTemperature: string (nullable = true)\n",
      " |-- AverageTemperatureUncertainty: string (nullable = true)\n",
      " |-- City: string (nullable = true)\n",
      " |-- Country: string (nullable = true)\n",
      " |-- Latitude: string (nullable = true)\n",
      " |-- Longitude: string (nullable = true)\n",
      "\n",
      "+-------+----------+--------------------+-----------------------------+--------+-----------+--------+---------+\n",
      "|summary|        dt|  AverageTemperature|AverageTemperatureUncertainty|    City|    Country|Latitude|Longitude|\n",
      "+-------+----------+--------------------+-----------------------------+--------+-----------+--------+---------+\n",
      "|  count|   8599212|             8235082|                      8235082| 8599212|    8599212| 8599212|  8599212|\n",
      "|   mean|      null|  16.727432636250835|           1.0285747414536532|    null|       null|    null|     null|\n",
      "| stddev|      null|  10.353442482534422|           1.1297332887133706|    null|       null|    null|     null|\n",
      "|    min|1743-11-01|-0.00099999999999...|                        0.034|A Coruña|Afghanistan|   0.80N|    0.00W|\n",
      "|    max|2013-09-01|               9.999|                        9.998|  Ürümqi|   Zimbabwe|   8.84S|   99.91E|\n",
      "+-------+----------+--------------------+-----------------------------+--------+-----------+--------+---------+\n",
      "\n"
     ]
    }
   ],
   "source": [
    "# Exploration and cleaning\n",
    "df_temperatures.show(10)\n",
    "df_temperatures.printSchema()\n",
    "df_temperatures.describe().show()"
   ]
  },
  {
   "cell_type": "code",
   "execution_count": 8,
   "metadata": {
    "editable": true
   },
   "outputs": [],
   "source": [
    "# Drop rows for NA value in specific columns\n",
    "df_temperatures = df_temperatures.na.drop(subset=[\"dt\",\n",
    "                                                      \"AverageTemperature\",\n",
    "                                                      \"City\",\n",
    "                                                      \"Country\"])"
   ]
  },
  {
   "cell_type": "code",
   "execution_count": 9,
   "metadata": {
    "editable": true
   },
   "outputs": [
    {
     "name": "stdout",
     "output_type": "stream",
     "text": [
      "+----+-----+----------------+-------------------+\n",
      "|year|month|            City|average_temperature|\n",
      "+----+-----+----------------+-------------------+\n",
      "|2013|    9|         Yonkers|            17.0000|\n",
      "|2013|    9|       Worcester|            16.0000|\n",
      "|2013|    9|   Winston Salem|            22.0000|\n",
      "|2013|    9|         Windsor|            18.0000|\n",
      "|2013|    9|   Wichita Falls|            26.0000|\n",
      "|2013|    9|         Wichita|            24.0000|\n",
      "|2013|    9|     Westminster|            19.0000|\n",
      "|2013|    9|West Valley City|            20.0000|\n",
      "|2013|    9|     West Jordan|            20.0000|\n",
      "|2013|    9|     West Covina|            23.0000|\n",
      "+----+-----+----------------+-------------------+\n",
      "only showing top 10 rows\n",
      "\n"
     ]
    }
   ],
   "source": [
    "# generate year and month columns from dt column\n",
    "df_temperatures = df_temperatures.withColumn(\"year\", year(col(\"dt\"))) \\\n",
    "                                 .withColumn(\"month\", month(col(\"dt\")))\n",
    "\n",
    "# process to generate temperatures_us_cities\n",
    "# filter 'United States' from Country Column\n",
    "df_temperatures_us_cities = df_temperatures.filter(\n",
    "                                            \"Country == 'United States'\")\n",
    "\n",
    "# aggregate temperature dataframe by year, month and city\n",
    "df_temperatures_us_cities = df_temperatures_us_cities \\\n",
    "    .groupby(\"year\", \"month\", \"City\") \\\n",
    "    .agg(mean(df_temperatures_us_cities.AverageTemperature\n",
    "              .cast('decimal')).alias('average_temperature')) \\\n",
    "    .orderBy(desc('year'), desc('month'), desc('City'))\n",
    "\n",
    "# Show first 10 rows\n",
    "df_temperatures_us_cities.show(10)"
   ]
  },
  {
   "cell_type": "code",
   "execution_count": 10,
   "metadata": {
    "editable": true
   },
   "outputs": [
    {
     "name": "stdout",
     "output_type": "stream",
     "text": [
      "+----+-----+------------------+-------------------+\n",
      "|year|month|           Country|average_temperature|\n",
      "+----+-----+------------------+-------------------+\n",
      "|2013|    9|       Puerto Rico|            28.0000|\n",
      "|2013|    9|         Nicaragua|            28.5000|\n",
      "|2013|    9|            Mexico|            23.7526|\n",
      "|2013|    9|           Jamaica|            28.6667|\n",
      "|2013|    9|          Honduras|            26.8000|\n",
      "|2013|    9|             Haiti|            28.2000|\n",
      "|2013|    9|         Guatemala|            22.0000|\n",
      "|2013|    9|       El Salvador|            26.8333|\n",
      "|2013|    9|Dominican Republic|            28.2222|\n",
      "|2013|    9|              Cuba|            28.5000|\n",
      "+----+-----+------------------+-------------------+\n",
      "only showing top 10 rows\n",
      "\n"
     ]
    }
   ],
   "source": [
    "# process to generate temperatures_countries\n",
    "# filter out 'United States' from Country column\n",
    "df_temperatures_countries = df_temperatures \\\n",
    "    .filter(\"Country != 'United States'\")\n",
    "\n",
    "# aggregate temperature dataframe by year, month and country\n",
    "df_temperatures_countries = df_temperatures_countries \\\n",
    "    .groupby('year', 'month', 'Country') \\\n",
    "    .agg(mean(df_temperatures_countries.AverageTemperature.cast('decimal'))\n",
    "         .alias('average_temperature')) \\\n",
    "    .orderBy(desc('year'), desc('month'), desc('Country'))\n",
    "\n",
    "# Show first 10 rows\n",
    "df_temperatures_countries.show(10)"
   ]
  },
  {
   "cell_type": "markdown",
   "metadata": {
    "editable": true
   },
   "source": [
    "#### CITIES DEMOGRAPHIC DATA"
   ]
  },
  {
   "cell_type": "code",
   "execution_count": 11,
   "metadata": {
    "editable": true
   },
   "outputs": [
    {
     "name": "stdout",
     "output_type": "stream",
     "text": [
      "+----------------+--------------+----------+---------------+-----------------+----------------+------------------+------------+----------------------+----------+--------------------+-----+\n",
      "|            City|         State|Median Age|Male Population|Female Population|Total Population|Number of Veterans|Foreign-born|Average Household Size|State Code|                Race|Count|\n",
      "+----------------+--------------+----------+---------------+-----------------+----------------+------------------+------------+----------------------+----------+--------------------+-----+\n",
      "|   Silver Spring|      Maryland|      33.8|          40601|            41862|           82463|              1562|       30908|                   2.6|        MD|  Hispanic or Latino|25924|\n",
      "|          Quincy| Massachusetts|      41.0|          44129|            49500|           93629|              4147|       32935|                  2.39|        MA|               White|58723|\n",
      "|          Hoover|       Alabama|      38.5|          38040|            46799|           84839|              4819|        8229|                  2.58|        AL|               Asian| 4759|\n",
      "|Rancho Cucamonga|    California|      34.5|          88127|            87105|          175232|              5821|       33878|                  3.18|        CA|Black or African-...|24437|\n",
      "|          Newark|    New Jersey|      34.6|         138040|           143873|          281913|              5829|       86253|                  2.73|        NJ|               White|76402|\n",
      "|          Peoria|      Illinois|      33.1|          56229|            62432|          118661|              6634|        7517|                   2.4|        IL|American Indian a...| 1343|\n",
      "|        Avondale|       Arizona|      29.1|          38712|            41971|           80683|              4815|        8355|                  3.18|        AZ|Black or African-...|11592|\n",
      "|     West Covina|    California|      39.8|          51629|            56860|          108489|              3800|       37038|                  3.56|        CA|               Asian|32716|\n",
      "|        O'Fallon|      Missouri|      36.0|          41762|            43270|           85032|              5783|        3269|                  2.77|        MO|  Hispanic or Latino| 2583|\n",
      "|      High Point|North Carolina|      35.5|          51751|            58077|          109828|              5204|       16315|                  2.65|        NC|               Asian|11060|\n",
      "+----------------+--------------+----------+---------------+-----------------+----------------+------------------+------------+----------------------+----------+--------------------+-----+\n",
      "only showing top 10 rows\n",
      "\n",
      "root\n",
      " |-- City: string (nullable = true)\n",
      " |-- State: string (nullable = true)\n",
      " |-- Median Age: string (nullable = true)\n",
      " |-- Male Population: string (nullable = true)\n",
      " |-- Female Population: string (nullable = true)\n",
      " |-- Total Population: string (nullable = true)\n",
      " |-- Number of Veterans: string (nullable = true)\n",
      " |-- Foreign-born: string (nullable = true)\n",
      " |-- Average Household Size: string (nullable = true)\n",
      " |-- State Code: string (nullable = true)\n",
      " |-- Race: string (nullable = true)\n",
      " |-- Count: string (nullable = true)\n",
      "\n",
      "+-------+-------+---------+-----------------+------------------+------------------+------------------+------------------+------------------+----------------------+----------+--------------------+------------------+\n",
      "|summary|   City|    State|       Median Age|   Male Population| Female Population|  Total Population|Number of Veterans|      Foreign-born|Average Household Size|State Code|                Race|             Count|\n",
      "+-------+-------+---------+-----------------+------------------+------------------+------------------+------------------+------------------+----------------------+----------+--------------------+------------------+\n",
      "|  count|   2891|     2891|             2891|              2888|              2888|              2891|              2878|              2878|                  2875|      2891|                2891|              2891|\n",
      "|   mean|   null|     null|35.49488066413016| 97328.42624653739|101769.63088642659|198966.77931511588| 9367.832522585128|40653.598679638635|     2.742542608695655|      null|                null| 48963.77447250087|\n",
      "| stddev|   null|     null|4.401616730099886|216299.93692873296|231564.57257148277| 447555.9296335903| 13211.21992386408| 155749.1036650984|    0.4332910878973046|      null|                null|144385.58856460615|\n",
      "|    min|Abilene|  Alabama|             22.9|            100135|            100260|            100247|             10001|             10024|                   2.0|        AK|American Indian a...|            100055|\n",
      "|    25%|   null|     null|             32.8|           39289.0|           41227.0|           80429.0|            3739.0|            9224.0|                  2.43|      null|                null|            3434.0|\n",
      "|    50%|   null|     null|             35.3|           52336.0|           53809.0|          106782.0|            5397.0|           18822.0|                  2.65|      null|                null|           13780.0|\n",
      "|    75%|   null|     null|             38.0|           86596.0|           89604.0|          175232.0|            9368.0|           34003.0|                  2.95|      null|                null|           54496.0|\n",
      "|    max|   Yuma|Wisconsin|             70.5|             99967|             99430|             99897|              9988|              9929|                  4.98|        WI|               White|             99948|\n",
      "+-------+-------+---------+-----------------+------------------+------------------+------------------+------------------+------------------+----------------------+----------+--------------------+------------------+\n",
      "\n"
     ]
    }
   ],
   "source": [
    "# Exploration and cleaning\n",
    "df_cities_demographic.show(10)\n",
    "df_cities_demographic.printSchema()\n",
    "df_cities_demographic.summary().show()"
   ]
  },
  {
   "cell_type": "code",
   "execution_count": 12,
   "metadata": {
    "editable": true
   },
   "outputs": [],
   "source": [
    "# Drop rows for NA value in columns\n",
    "df_cities_demographic = df_cities_demographic.na.drop()"
   ]
  },
  {
   "cell_type": "code",
   "execution_count": 13,
   "metadata": {
    "editable": true
   },
   "outputs": [
    {
     "name": "stdout",
     "output_type": "stream",
     "text": [
      "+----------+----------+----------+---------------+-----------------+----------------+------------------+------------+----------------------+----------+---------------------------------+-----+-------------------------+------------------+------+\n",
      "|     State|      City|Median Age|Male Population|Female Population|Total Population|Number of Veterans|Foreign-born|Average Household Size|State Code|American Indian and Alaska Native|Asian|Black or African-American|Hispanic or Latino| White|\n",
      "+----------+----------+----------+---------------+-----------------+----------------+------------------+------------+----------------------+----------+---------------------------------+-----+-------------------------+------------------+------+\n",
      "| Wisconsin|  Waukesha|      35.8|          36263|            35713|           71976|              3116|        4982|                  2.35|        WI|                              481| 2904|                     1923|              9713| 66757|\n",
      "| Wisconsin|    Racine|      33.7|          39314|            38423|           77737|              4650|        4403|                  2.56|        WI|                             1371| 1175|                    20014|             18215| 52445|\n",
      "| Wisconsin|   Oshkosh|      33.0|          32905|            33652|           66557|              3809|        2348|                   2.3|        WI|                              237| 3182|                     2778|              1972| 60210|\n",
      "| Wisconsin| Milwaukee|      31.6|         286315|           313839|          600154|             20615|       58321|                  2.51|        WI|                            10813|24832|                   248149|            110335|297038|\n",
      "| Wisconsin|   Madison|      30.7|         122596|           126360|          248956|              9707|       30090|                  2.23|        WI|                             2296|23937|                    20424|             19697|204302|\n",
      "| Wisconsin|   Kenosha|      36.3|          49349|            50507|           99856|              6238|        7443|                  2.55|        WI|                             1264| 2537|                    11915|             18772| 84780|\n",
      "| Wisconsin| Green Bay|      32.9|          52517|            52704|          105221|              5519|        9813|                  2.37|        WI|                             6547| 5652|                     7561|             16786| 82033|\n",
      "| Wisconsin|Eau Claire|      32.0|          32327|            35106|           67433|              3261|        2833|                   2.4|        WI|                              876| 4202|                      725|              1488| 62194|\n",
      "| Wisconsin|  Appleton|      35.6|          37217|            38038|           75255|              4219|        4454|                  2.49|        WI|                              835| 5561|                     3407|              5139| 64674|\n",
      "|Washington|    Yakima|      34.0|          45147|            48553|           93700|              4705|       15717|                  2.74|        WA|                             2042| 2248|                      924|             44172| 79286|\n",
      "+----------+----------+----------+---------------+-----------------+----------------+------------------+------------+----------------------+----------+---------------------------------+-----+-------------------------+------------------+------+\n",
      "only showing top 10 rows\n",
      "\n",
      "+-------+---------+-------+-----------------+------------------+------------------+------------------+------------------+------------------+----------------------+----------+---------------------------------+------------------+-------------------------+------------------+-----------------+\n",
      "|summary|    State|   City|       Median Age|   Male Population| Female Population|  Total Population|Number of Veterans|      Foreign-born|Average Household Size|State Code|American Indian and Alaska Native|             Asian|Black or African-American|Hispanic or Latino|            White|\n",
      "+-------+---------+-------+-----------------+------------------+------------------+------------------+------------------+------------------+----------------------+----------+---------------------------------+------------------+-------------------------+------------------+-----------------+\n",
      "|  count|      588|    588|              588|               588|               588|               588|               588|               588|                   588|       588|                              535|               581|                      583|               588|              588|\n",
      "|   mean|     null|   null|35.44183673469387| 96159.64285714286|100523.00510204081|196682.64795918367| 9225.102040816326|40234.824829931975|     2.747568027210883|      null|               3299.3757009345795|19202.757314974184|        38557.09948542024| 52528.37074829932|126183.6037414966|\n",
      "| stddev|     null|   null|4.298870898137402|214670.13353576753|229804.73005772685|444381.36105190293|13112.228360672152|154262.74538631877|     0.439765738859687|      null|               6647.4008687527885|65492.221668009544|       116437.60572743035|155613.99084137465|227180.2299308766|\n",
      "|    min|  Alabama|Abilene|             22.9|            100135|            100260|            100247|             10001|             10024|                   2.0|        AK|                            10027|             10017|                    10026|             10007|           100055|\n",
      "|    25%|     null|   null|             32.8|           38923.0|           40967.0|           79943.0|            3667.0|            9202.0|                  2.43|      null|                            821.0|            3237.0|                   4937.0|            9191.0|          57064.0|\n",
      "|    50%|     null|   null|             35.3|           51629.0|           53235.0|          104808.0|            5206.0|           18666.0|                  2.65|      null|                           1639.0|            7508.0|                  11914.0|           22402.0|          76282.0|\n",
      "|    75%|     null|   null|             38.0|           84069.0|           88149.0|          172853.0|            9064.0|           33801.0|                  2.95|      null|                           3102.0|           16165.0|                  33900.0|           46037.0|         110311.0|\n",
      "|    max|Wisconsin|   Yuma|             48.8|             99967|             99430|             99897|              9988|              9929|                  4.98|        WI|                              998|              9975|                    99948|             99838|            99300|\n",
      "+-------+---------+-------+-----------------+------------------+------------------+------------------+------------------+------------------+----------------------+----------+---------------------------------+------------------+-------------------------+------------------+-----------------+\n",
      "\n"
     ]
    }
   ],
   "source": [
    "# Aggregate cities demographic dataframe by Race with Count\n",
    "df_cities_demographic = df_cities_demographic \\\n",
    "    .groupby('State', 'City', 'Median Age', 'Male Population',\n",
    "             'Female Population', 'Total Population', 'Number of Veterans',\n",
    "             'Foreign-born', 'Average Household Size', 'State Code') \\\n",
    "    .pivot('Race').agg(first('Count')).orderBy(desc('State'), desc('City'))\n",
    "\n",
    "df_cities_demographic.show(10)\n",
    "df_cities_demographic.summary().show()"
   ]
  },
  {
   "cell_type": "markdown",
   "metadata": {
    "editable": true
   },
   "source": [
    "#### i94 SAS LABELS DESCRIPTIONS DATA"
   ]
  },
  {
   "cell_type": "code",
   "execution_count": 14,
   "metadata": {
    "editable": true
   },
   "outputs": [],
   "source": [
    "# i94 SAS LABELS DESCRIPTIONS exploration and cleaning\n",
    "dictionary_i94_sas_labels_descriptions = {}\n",
    "list_i94_sas_labels_descriptions = text_i94_sas_labels_descriptions \\\n",
    "    .replace('\\t', '').replace('    ', '').replace('   ', '') \\\n",
    "    .replace('  ', '').replace(' \\'', '\\'').replace('\\'', '') \\\n",
    "    .replace('$', '').replace('\\n', '|').split('value ')\n",
    "\n",
    "for line in list_i94_sas_labels_descriptions:\n",
    "    line = line.split(';')[0].split(\"|\")\n",
    "    dictionary_i94_sas_labels_descriptions[\n",
    "        line[0]] = [x.split(\"=\") for x in line[0:] if \"=\" in x]"
   ]
  },
  {
   "cell_type": "code",
   "execution_count": 15,
   "metadata": {
    "editable": true
   },
   "outputs": [
    {
     "name": "stdout",
     "output_type": "stream",
     "text": [
      "+------------+--------------------+\n",
      "|country_code|             country|\n",
      "+------------+--------------------+\n",
      "|        582 |MEXICO Air Sea, a...|\n",
      "|        236 |         AFGHANISTAN|\n",
      "|        101 |             ALBANIA|\n",
      "|        316 |             ALGERIA|\n",
      "|        102 |             ANDORRA|\n",
      "|        324 |              ANGOLA|\n",
      "|        529 |            ANGUILLA|\n",
      "|        518 |     ANTIGUA-BARBUDA|\n",
      "|        687 |           ARGENTINA|\n",
      "|        151 |             ARMENIA|\n",
      "+------------+--------------------+\n",
      "only showing top 10 rows\n",
      "\n"
     ]
    }
   ],
   "source": [
    "# Create I94 COUNTRY dataframe with spark\n",
    "df_i94_country = spark \\\n",
    "    .createDataFrame(dictionary_i94_sas_labels_descriptions['i94cntyl'],\n",
    "                     ('country_code', 'country'))\n",
    "\n",
    "df_i94_country.show(10)"
   ]
  },
  {
   "cell_type": "code",
   "execution_count": 16,
   "metadata": {
    "editable": true
   },
   "outputs": [
    {
     "name": "stdout",
     "output_type": "stream",
     "text": [
      "+----------+-----------------+\n",
      "|state_code|            state|\n",
      "+----------+-----------------+\n",
      "|        AL|          ALABAMA|\n",
      "|        AK|           ALASKA|\n",
      "|        AZ|          ARIZONA|\n",
      "|        AR|         ARKANSAS|\n",
      "|        CA|       CALIFORNIA|\n",
      "|        CO|         COLORADO|\n",
      "|        CT|      CONNECTICUT|\n",
      "|        DE|         DELAWARE|\n",
      "|        DC|DIST. OF COLUMBIA|\n",
      "|        FL|          FLORIDA|\n",
      "+----------+-----------------+\n",
      "only showing top 10 rows\n",
      "\n"
     ]
    }
   ],
   "source": [
    "# Create I94 STATE dataframe\n",
    "df_i94_state = spark \\\n",
    "    .createDataFrame(dictionary_i94_sas_labels_descriptions['i94addrl'],\n",
    "                     ('state_code', 'state'))\n",
    "\n",
    "df_i94_state.show(10)"
   ]
  },
  {
   "cell_type": "code",
   "execution_count": 17,
   "metadata": {
    "editable": true
   },
   "outputs": [
    {
     "name": "stdout",
     "output_type": "stream",
     "text": [
      "+---------+--------------------+--------------------+----------+\n",
      "|port_code|                port|                city|state_code|\n",
      "+---------+--------------------+--------------------+----------+\n",
      "|      ALC|           ALCAN, AK|               ALCAN|        AK|\n",
      "|      ANC|       ANCHORAGE, AK|           ANCHORAGE|        AK|\n",
      "|      BAR|BAKER AAF - BAKER...|BAKER AAF - BAKER...|        AK|\n",
      "|      DAC|   DALTONS CACHE, AK|       DALTONS CACHE|        AK|\n",
      "|      PIZ|DEW STATION PT LA...|DEW STATION PT LA...|        AK|\n",
      "|      DTH|    DUTCH HARBOR, AK|        DUTCH HARBOR|        AK|\n",
      "|      EGL|           EAGLE, AK|               EAGLE|        AK|\n",
      "|      FRB|       FAIRBANKS, AK|           FAIRBANKS|        AK|\n",
      "|      HOM|           HOMER, AK|               HOMER|        AK|\n",
      "|      HYD|           HYDER, AK|               HYDER|        AK|\n",
      "+---------+--------------------+--------------------+----------+\n",
      "only showing top 10 rows\n",
      "\n"
     ]
    }
   ],
   "source": [
    "# Create I94 PORT dataframe\n",
    "df_i94_port = spark \\\n",
    "    .createDataFrame(dictionary_i94_sas_labels_descriptions['i94prtl'],\n",
    "                     ('port_code', 'port'))\n",
    "df_i94_port = df_i94_port \\\n",
    "    .withColumn('city', split(df_i94_port['port'], ',')[0]) \\\n",
    "    .withColumn('state_code',\n",
    "                regexp_replace(\n",
    "                    split(df_i94_port['port'], ',')[1], ' ', '')[0:2])\n",
    "\n",
    "df_i94_port.show(10)"
   ]
  },
  {
   "cell_type": "code",
   "execution_count": 18,
   "metadata": {
    "editable": true
   },
   "outputs": [
    {
     "name": "stdout",
     "output_type": "stream",
     "text": [
      "+----------------+-------------+\n",
      "|travel_mode_code|  travel_mode|\n",
      "+----------------+-------------+\n",
      "|              1 |          Air|\n",
      "|              2 |          Sea|\n",
      "|              3 |         Land|\n",
      "|              9 |Not reported |\n",
      "+----------------+-------------+\n",
      "\n"
     ]
    }
   ],
   "source": [
    "# Create I94 MODE dataframe\n",
    "df_i94_mode = spark \\\n",
    "    .createDataFrame(dictionary_i94_sas_labels_descriptions['i94model'],\n",
    "                     ('travel_mode_code', 'travel_mode'))\n",
    "\n",
    "df_i94_mode.show(10)"
   ]
  },
  {
   "cell_type": "markdown",
   "metadata": {
    "editable": true
   },
   "source": [
    "#### i94 IMMIGRATIONS DATA"
   ]
  },
  {
   "cell_type": "code",
   "execution_count": 19,
   "metadata": {
    "editable": true
   },
   "outputs": [
    {
     "name": "stdout",
     "output_type": "stream",
     "text": [
      "+-----+------+------+------+------+-------+-------+-------+-------+-------+------+-------+-----+--------+--------+-----+-------+-------+-------+-------+-------+--------+------+------+-------+--------------+-----+--------+\n",
      "|cicid| i94yr|i94mon|i94cit|i94res|i94port|arrdate|i94mode|i94addr|depdate|i94bir|i94visa|count|dtadfile|visapost|occup|entdepa|entdepd|entdepu|matflag|biryear| dtaddto|gender|insnum|airline|        admnum|fltno|visatype|\n",
      "+-----+------+------+------+------+-------+-------+-------+-------+-------+------+-------+-----+--------+--------+-----+-------+-------+-------+-------+-------+--------+------+------+-------+--------------+-----+--------+\n",
      "|  6.0|2016.0|   4.0| 692.0| 692.0|    XXX|20573.0|   null|   null|   null|  37.0|    2.0|  1.0|    null|    null| null|      T|   null|      U|   null| 1979.0|10282016|  null|  null|   null| 1.897628485E9| null|      B2|\n",
      "|  7.0|2016.0|   4.0| 254.0| 276.0|    ATL|20551.0|    1.0|     AL|   null|  25.0|    3.0|  1.0|20130811|     SEO| null|      G|   null|      Y|   null| 1991.0|     D/S|     M|  null|   null|  3.73679633E9|00296|      F1|\n",
      "| 15.0|2016.0|   4.0| 101.0| 101.0|    WAS|20545.0|    1.0|     MI|20691.0|  55.0|    2.0|  1.0|20160401|    null| null|      T|      O|   null|      M| 1961.0|09302016|     M|  null|     OS|  6.66643185E8|   93|      B2|\n",
      "| 16.0|2016.0|   4.0| 101.0| 101.0|    NYC|20545.0|    1.0|     MA|20567.0|  28.0|    2.0|  1.0|20160401|    null| null|      O|      O|   null|      M| 1988.0|09302016|  null|  null|     AA|9.246846133E10|00199|      B2|\n",
      "| 17.0|2016.0|   4.0| 101.0| 101.0|    NYC|20545.0|    1.0|     MA|20567.0|   4.0|    2.0|  1.0|20160401|    null| null|      O|      O|   null|      M| 2012.0|09302016|  null|  null|     AA|9.246846313E10|00199|      B2|\n",
      "| 18.0|2016.0|   4.0| 101.0| 101.0|    NYC|20545.0|    1.0|     MI|20555.0|  57.0|    1.0|  1.0|20160401|    null| null|      O|      O|   null|      M| 1959.0|09302016|  null|  null|     AZ|9.247103803E10|00602|      B1|\n",
      "| 19.0|2016.0|   4.0| 101.0| 101.0|    NYC|20545.0|    1.0|     NJ|20558.0|  63.0|    2.0|  1.0|20160401|    null| null|      O|      K|   null|      M| 1953.0|09302016|  null|  null|     AZ|9.247139923E10|00602|      B2|\n",
      "| 20.0|2016.0|   4.0| 101.0| 101.0|    NYC|20545.0|    1.0|     NJ|20558.0|  57.0|    2.0|  1.0|20160401|    null| null|      O|      K|   null|      M| 1959.0|09302016|  null|  null|     AZ|9.247161383E10|00602|      B2|\n",
      "| 21.0|2016.0|   4.0| 101.0| 101.0|    NYC|20545.0|    1.0|     NY|20553.0|  46.0|    2.0|  1.0|20160401|    null| null|      O|      O|   null|      M| 1970.0|09302016|  null|  null|     AZ|9.247079603E10|00602|      B2|\n",
      "| 22.0|2016.0|   4.0| 101.0| 101.0|    NYC|20545.0|    1.0|     NY|20562.0|  48.0|    1.0|  1.0|20160401|    null| null|      O|      O|   null|      M| 1968.0|09302016|  null|  null|     AZ|9.247848973E10|00608|      B1|\n",
      "+-----+------+------+------+------+-------+-------+-------+-------+-------+------+-------+-----+--------+--------+-----+-------+-------+-------+-------+-------+--------+------+------+-------+--------------+-----+--------+\n",
      "only showing top 10 rows\n",
      "\n",
      "root\n",
      " |-- cicid: double (nullable = true)\n",
      " |-- i94yr: double (nullable = true)\n",
      " |-- i94mon: double (nullable = true)\n",
      " |-- i94cit: double (nullable = true)\n",
      " |-- i94res: double (nullable = true)\n",
      " |-- i94port: string (nullable = true)\n",
      " |-- arrdate: double (nullable = true)\n",
      " |-- i94mode: double (nullable = true)\n",
      " |-- i94addr: string (nullable = true)\n",
      " |-- depdate: double (nullable = true)\n",
      " |-- i94bir: double (nullable = true)\n",
      " |-- i94visa: double (nullable = true)\n",
      " |-- count: double (nullable = true)\n",
      " |-- dtadfile: string (nullable = true)\n",
      " |-- visapost: string (nullable = true)\n",
      " |-- occup: string (nullable = true)\n",
      " |-- entdepa: string (nullable = true)\n",
      " |-- entdepd: string (nullable = true)\n",
      " |-- entdepu: string (nullable = true)\n",
      " |-- matflag: string (nullable = true)\n",
      " |-- biryear: double (nullable = true)\n",
      " |-- dtaddto: string (nullable = true)\n",
      " |-- gender: string (nullable = true)\n",
      " |-- insnum: string (nullable = true)\n",
      " |-- airline: string (nullable = true)\n",
      " |-- admnum: double (nullable = true)\n",
      " |-- fltno: string (nullable = true)\n",
      " |-- visatype: string (nullable = true)\n",
      "\n",
      "+-------+-----------------+--------------------+-------+------------------+------------------+-------+-----------------+------------------+------------------+------------------+------------------+-------------------+-------+--------------------+--------+-----------------+-------+-------+-------+-------+------------------+------------------+-------+-----------------+------------------+--------------------+------------------+--------+\n",
      "|summary|            cicid|               i94yr| i94mon|            i94cit|            i94res|i94port|          arrdate|           i94mode|           i94addr|           depdate|            i94bir|            i94visa|  count|            dtadfile|visapost|            occup|entdepa|entdepd|entdepu|matflag|           biryear|           dtaddto| gender|           insnum|           airline|              admnum|             fltno|visatype|\n",
      "+-------+-----------------+--------------------+-------+------------------+------------------+-------+-----------------+------------------+------------------+------------------+------------------+-------------------+-------+--------------------+--------+-----------------+-------+-------+-------+-------+------------------+------------------+-------+-----------------+------------------+--------------------+------------------+--------+\n",
      "|  count|          3096313|             3096313|3096313|           3096313|           3096313|3096313|          3096313|           3096074|           2943721|           2953856|           3095511|            3096313|3096313|             3096312| 1215063|             8126|3096075|2957884|    392|2957884|           3095511|           3095836|2682044|           113708|           3012686|             3096313|           3076764| 3096313|\n",
      "|   mean|3078651.879075533|              2016.0|    4.0| 304.9069344733559|303.28381949757664|   null|20559.84854179794|1.0736897761487614|51.652482269503544| 20573.95283554784|41.767614458485205| 1.8453925685161674|    1.0|2.0160424766168267E7|   999.0|          885.675|   null|   null|   null|   null|1974.2323855415148| 8291120.333841449|   null|4131.050016327899|59.477601493233784|7.082885011090295E10|1360.2463696420555|    null|\n",
      "| stddev|1763278.099749858|4.282829613261096...|    0.0|210.02688853063327| 208.5832129278886|   null|8.777339474881552|0.5158963131657236|42.979062313709846|29.356968481630613| 17.42026053458826|0.39839102005409577|    0.0|   50.01513449489737|     0.0|264.6551105950961|   null|   null|   null|   null|17.420260534588262|1656502.4244925014|   null|8821.743471773656|172.63339952061747|2.215441594755763...| 5852.676345633782|    null|\n",
      "|    min|              6.0|              2016.0|    4.0|             101.0|             101.0|    5KE|          20545.0|               1.0|                ..|           15176.0|              -3.0|                1.0|    1.0|            20130811|     999|              049|      A|      D|      U|      M|            1902.0|          /   183D|      F|                0|               *FF|                 0.0|             00000|      B1|\n",
      "|    25%|        1577970.0|              2016.0|    4.0|             135.0|             131.0|   null|          20552.0|               1.0|              10.0|           20561.0|              30.0|                2.0|    1.0|         2.0160409E7|   999.0|            855.0|   null|   null|   null|   null|            1962.0|         7102016.0|   null|           3680.0|               2.0|     5.6035460333E10|             101.0|    null|\n",
      "|    50%|        3103534.0|              2016.0|    4.0|             213.0|             213.0|   null|          20560.0|               1.0|              40.0|           20570.0|              41.0|                2.0|    1.0|         2.0160417E7|   999.0|            999.0|   null|   null|   null|   null|            1975.0|         7252016.0|   null|           3872.0|               2.0|     5.9361536833E10|             408.0|    null|\n",
      "|    75%|        4654360.0|              2016.0|    4.0|             512.0|             504.0|   null|          20567.0|               1.0|              99.0|           20579.0|              54.0|                2.0|    1.0|         2.0160424E7|   999.0|            999.0|   null|   null|   null|   null|            1986.0|       1.0132016E7|   null|           3945.0|               2.0|      9.350969753E10|             903.0|    null|\n",
      "|    max|        6102785.0|              2016.0|    4.0|             999.0|             760.0|    YSL|          20574.0|               9.0|                ZU|           45427.0|             114.0|                3.0|    1.0|            20160919|     ZZZ|              WTR|      Z|      W|      Y|      M|            2019.0|               D/S|      X|           YM0167|                ZZ|      9.991556593E10|               ZZZ|      WT|\n",
      "+-------+-----------------+--------------------+-------+------------------+------------------+-------+-----------------+------------------+------------------+------------------+------------------+-------------------+-------+--------------------+--------+-----------------+-------+-------+-------+-------+------------------+------------------+-------+-----------------+------------------+--------------------+------------------+--------+\n",
      "\n",
      "+---------------------+\n",
      "|count(DISTINCT cicid)|\n",
      "+---------------------+\n",
      "|              3096313|\n",
      "+---------------------+\n",
      "\n"
     ]
    }
   ],
   "source": [
    "# Exploration and cleaning\n",
    "df_immigrations.show(10)\n",
    "df_immigrations.printSchema()\n",
    "df_immigrations.summary().show()\n",
    "df_immigrations.agg(countDistinct('cicid')).show()"
   ]
  },
  {
   "cell_type": "code",
   "execution_count": 20,
   "metadata": {
    "editable": true
   },
   "outputs": [
    {
     "name": "stdout",
     "output_type": "stream",
     "text": [
      "+-------+-------+\n",
      "|I94VISA|  count|\n",
      "+-------+-------+\n",
      "|    1.0| 522079|\n",
      "|    3.0|  43366|\n",
      "|    2.0|2530868|\n",
      "+-------+-------+\n",
      "\n"
     ]
    }
   ],
   "source": [
    "# Show statistic by visa categories, 1.0 = Business, 2.0 = Pleasure, 3.0 = Student\n",
    "df_immigrations.groupBy('I94VISA').count().show()\n",
    "\n",
    "# Filter i94visa by 2.0 for pleasure visiting \n",
    "# due to the fact that our target profile is tourist\n",
    "df_immigrations = df_immigrations.filter(\"I94VISA==2.0\")"
   ]
  },
  {
   "cell_type": "code",
   "execution_count": 21,
   "metadata": {
    "editable": true
   },
   "outputs": [
    {
     "name": "stdout",
     "output_type": "stream",
     "text": [
      "+-----+------+------+------+------+-------+-------+-------+-------+-------+------+-------+-----+--------+--------+-----+-------+-------+-------+-------+-------+--------+------+------+-------+--------------+-----+--------+\n",
      "|cicid| i94yr|i94mon|i94cit|i94res|i94port|arrdate|i94mode|i94addr|depdate|i94bir|i94visa|count|dtadfile|visapost|occup|entdepa|entdepd|entdepu|matflag|biryear| dtaddto|gender|insnum|airline|        admnum|fltno|visatype|\n",
      "+-----+------+------+------+------+-------+-------+-------+-------+-------+------+-------+-----+--------+--------+-----+-------+-------+-------+-------+-------+--------+------+------+-------+--------------+-----+--------+\n",
      "| 15.0|2016.0|   4.0| 101.0| 101.0|    WAS|20545.0|    1.0|     MI|20691.0|  55.0|    2.0|  1.0|20160401|    null| null|      T|      O|   null|      M| 1961.0|09302016|     M|  null|     OS|  6.66643185E8|   93|      B2|\n",
      "| 16.0|2016.0|   4.0| 101.0| 101.0|    NYC|20545.0|    1.0|     MA|20567.0|  28.0|    2.0|  1.0|20160401|    null| null|      O|      O|   null|      M| 1988.0|09302016|  null|  null|     AA|9.246846133E10|00199|      B2|\n",
      "| 17.0|2016.0|   4.0| 101.0| 101.0|    NYC|20545.0|    1.0|     MA|20567.0|   4.0|    2.0|  1.0|20160401|    null| null|      O|      O|   null|      M| 2012.0|09302016|  null|  null|     AA|9.246846313E10|00199|      B2|\n",
      "| 19.0|2016.0|   4.0| 101.0| 101.0|    NYC|20545.0|    1.0|     NJ|20558.0|  63.0|    2.0|  1.0|20160401|    null| null|      O|      K|   null|      M| 1953.0|09302016|  null|  null|     AZ|9.247139923E10|00602|      B2|\n",
      "| 20.0|2016.0|   4.0| 101.0| 101.0|    NYC|20545.0|    1.0|     NJ|20558.0|  57.0|    2.0|  1.0|20160401|    null| null|      O|      K|   null|      M| 1959.0|09302016|  null|  null|     AZ|9.247161383E10|00602|      B2|\n",
      "| 21.0|2016.0|   4.0| 101.0| 101.0|    NYC|20545.0|    1.0|     NY|20553.0|  46.0|    2.0|  1.0|20160401|    null| null|      O|      O|   null|      M| 1970.0|09302016|  null|  null|     AZ|9.247079603E10|00602|      B2|\n",
      "| 23.0|2016.0|   4.0| 101.0| 101.0|    NYC|20545.0|    1.0|     NY|20671.0|  52.0|    2.0|  1.0|20160401|    null| null|      O|      O|   null|      M| 1964.0|09302016|  null|  null|     TK|9.250139443E10|00001|      B2|\n",
      "| 24.0|2016.0|   4.0| 101.0| 101.0|    TOR|20545.0|    1.0|     MO|20554.0|  33.0|    2.0|  1.0|20160401|    null| null|      O|      O|   null|      M| 1983.0|09302016|  null|  null|     MQ|9.249090503E10|03348|      B2|\n",
      "| 29.0|2016.0|   4.0| 101.0| 101.0|    ATL|20545.0|    1.0|     MA|20561.0|  62.0|    2.0|  1.0|20160401|     TIA| null|      G|      O|   null|      M| 1954.0|09302016|     M|  null|     AZ|9.250378143E10|00614|      B2|\n",
      "| 30.0|2016.0|   4.0| 101.0| 101.0|    ATL|20545.0|    1.0|     NJ|20578.0|  49.0|    2.0|  1.0|20160401|     TIA| null|      G|      O|   null|      M| 1967.0|09302016|     M|  null|     OS|9.247020943E10|00089|      B2|\n",
      "+-----+------+------+------+------+-------+-------+-------+-------+-------+------+-------+-----+--------+--------+-----+-------+-------+-------+-------+-------+--------+------+------+-------+--------------+-----+--------+\n",
      "only showing top 10 rows\n",
      "\n"
     ]
    }
   ],
   "source": [
    "# Drop rows for na value in columns\n",
    "df_immigrations = df_immigrations.na \\\n",
    "    .drop(how='any',\n",
    "          subset=[\"cicid\", \"i94res\", \"i94port\", \"arrdate\", \"i94mode\"])\n",
    "\n",
    "df_immigrations.show(10)"
   ]
  },
  {
   "cell_type": "code",
   "execution_count": 22,
   "metadata": {
    "editable": true
   },
   "outputs": [
    {
     "name": "stdout",
     "output_type": "stream",
     "text": [
      "+-----+------+------+------+------+-------+-------+-------+-------+-------+------+-------+-----+--------+--------+-----+-------+-------+-------+-------+-------+--------+------+------+-------+--------------+-----+--------+------------+\n",
      "|cicid| i94yr|i94mon|i94cit|i94res|i94port|arrdate|i94mode|i94addr|depdate|i94bir|i94visa|count|dtadfile|visapost|occup|entdepa|entdepd|entdepu|matflag|biryear| dtaddto|gender|insnum|airline|        admnum|fltno|visatype|arrival_date|\n",
      "+-----+------+------+------+------+-------+-------+-------+-------+-------+------+-------+-----+--------+--------+-----+-------+-------+-------+-------+-------+--------+------+------+-------+--------------+-----+--------+------------+\n",
      "| 15.0|2016.0|   4.0| 101.0| 101.0|    WAS|20545.0|    1.0|     MI|20691.0|  55.0|    2.0|  1.0|20160401|    null| null|      T|      O|   null|      M| 1961.0|09302016|     M|  null|     OS|  6.66643185E8|   93|      B2|  2016-04-01|\n",
      "| 16.0|2016.0|   4.0| 101.0| 101.0|    NYC|20545.0|    1.0|     MA|20567.0|  28.0|    2.0|  1.0|20160401|    null| null|      O|      O|   null|      M| 1988.0|09302016|  null|  null|     AA|9.246846133E10|00199|      B2|  2016-04-01|\n",
      "| 17.0|2016.0|   4.0| 101.0| 101.0|    NYC|20545.0|    1.0|     MA|20567.0|   4.0|    2.0|  1.0|20160401|    null| null|      O|      O|   null|      M| 2012.0|09302016|  null|  null|     AA|9.246846313E10|00199|      B2|  2016-04-01|\n",
      "| 19.0|2016.0|   4.0| 101.0| 101.0|    NYC|20545.0|    1.0|     NJ|20558.0|  63.0|    2.0|  1.0|20160401|    null| null|      O|      K|   null|      M| 1953.0|09302016|  null|  null|     AZ|9.247139923E10|00602|      B2|  2016-04-01|\n",
      "| 20.0|2016.0|   4.0| 101.0| 101.0|    NYC|20545.0|    1.0|     NJ|20558.0|  57.0|    2.0|  1.0|20160401|    null| null|      O|      K|   null|      M| 1959.0|09302016|  null|  null|     AZ|9.247161383E10|00602|      B2|  2016-04-01|\n",
      "| 21.0|2016.0|   4.0| 101.0| 101.0|    NYC|20545.0|    1.0|     NY|20553.0|  46.0|    2.0|  1.0|20160401|    null| null|      O|      O|   null|      M| 1970.0|09302016|  null|  null|     AZ|9.247079603E10|00602|      B2|  2016-04-01|\n",
      "| 23.0|2016.0|   4.0| 101.0| 101.0|    NYC|20545.0|    1.0|     NY|20671.0|  52.0|    2.0|  1.0|20160401|    null| null|      O|      O|   null|      M| 1964.0|09302016|  null|  null|     TK|9.250139443E10|00001|      B2|  2016-04-01|\n",
      "| 24.0|2016.0|   4.0| 101.0| 101.0|    TOR|20545.0|    1.0|     MO|20554.0|  33.0|    2.0|  1.0|20160401|    null| null|      O|      O|   null|      M| 1983.0|09302016|  null|  null|     MQ|9.249090503E10|03348|      B2|  2016-04-01|\n",
      "| 29.0|2016.0|   4.0| 101.0| 101.0|    ATL|20545.0|    1.0|     MA|20561.0|  62.0|    2.0|  1.0|20160401|     TIA| null|      G|      O|   null|      M| 1954.0|09302016|     M|  null|     AZ|9.250378143E10|00614|      B2|  2016-04-01|\n",
      "| 30.0|2016.0|   4.0| 101.0| 101.0|    ATL|20545.0|    1.0|     NJ|20578.0|  49.0|    2.0|  1.0|20160401|     TIA| null|      G|      O|   null|      M| 1967.0|09302016|     M|  null|     OS|9.247020943E10|00089|      B2|  2016-04-01|\n",
      "+-----+------+------+------+------+-------+-------+-------+-------+-------+------+-------+-----+--------+--------+-----+-------+-------+-------+-------+-------+--------+------+------+-------+--------------+-----+--------+------------+\n",
      "only showing top 10 rows\n",
      "\n"
     ]
    }
   ],
   "source": [
    "# Convert sasdate to datetime \n",
    "SASdate_to_datetime = udf(lambda z: (timedelta(days=z) +\n",
    "                          datetime(1960, 1, 1)).strftime('%Y-%m-%d'))\n",
    "df_immigrations = df_immigrations \\\n",
    "    .withColumn(\"arrival_date\", SASdate_to_datetime(col(\"arrdate\")))\n",
    "\n",
    "df_immigrations.show(10)"
   ]
  },
  {
   "cell_type": "markdown",
   "metadata": {
    "editable": true
   },
   "source": [
    "### Step 3: Define the Data Model\n",
    "#### 3.1 Conceptual Data Model\n",
    "\n",
    "Star Schema model has been applied due to the fact that Star Schema makes analysis easier for our Data Analytic team. \n",
    "\n",
    "There is one Fact table in center with information extract from Immigration data. \n",
    "Dimension tables have connection to Fact table with uniq key set. Dimention tables could be used to enrich the fact table by join queries. "
   ]
  },
  {
   "cell_type": "markdown",
   "metadata": {
    "editable": true
   },
   "source": [
    "<img src=\"./Udacity_Capstone_US_Tourism_Data_Lake_data_model.png\">"
   ]
  },
  {
   "cell_type": "code",
   "execution_count": 23,
   "metadata": {
    "editable": true
   },
   "outputs": [
    {
     "name": "stdout",
     "output_type": "stream",
     "text": [
      "root\n",
      " |-- cicid: long (nullable = true)\n",
      " |-- arrival_year: integer (nullable = true)\n",
      " |-- arrival_month: integer (nullable = true)\n",
      " |-- arrival_date: date (nullable = true)\n",
      " |-- arrival_port_code: string (nullable = true)\n",
      " |-- visitor_birth_country: integer (nullable = true)\n",
      " |-- visitor_residence_country: integer (nullable = true)\n",
      " |-- visitor_age: integer (nullable = true)\n",
      " |-- visitor_gender: string (nullable = true)\n",
      " |-- travel_mode_code: integer (nullable = true)\n",
      " |-- travel_airline: string (nullable = true)\n",
      " |-- travel_visa_type: string (nullable = true)\n",
      "\n"
     ]
    }
   ],
   "source": [
    "# Generate fact_i94_us_visitor_arrivals_table from df_immigrations\n",
    "fact_i94_us_visitor_arrivals_table = df_immigrations \\\n",
    "    .filter(df_immigrations.cicid.isNotNull() &\n",
    "            df_immigrations.i94res.isNotNull() &\n",
    "            df_immigrations.i94port.isNotNull() &\n",
    "            df_immigrations.arrival_date.isNotNull() &\n",
    "            df_immigrations.i94mode.isNotNull()) \\\n",
    "    .selectExpr([\n",
    "        \"cast(cicid as long)\",\n",
    "        \"cast(i94yr as int) arrival_year\",\n",
    "        \"cast(i94mon as int) arrival_month\",\n",
    "        \"cast(arrival_date as date) arrival_date\",\n",
    "        \"cast(i94port as string) arrival_port_code\",\n",
    "        \"cast(i94cit as int) visitor_birth_country\",\n",
    "        \"cast(i94res as int) visitor_residence_country\",\n",
    "        \"cast(i94bir as int) visitor_age\",\n",
    "        \"cast(gender as string) visitor_gender\",\n",
    "        \"cast(i94mode as int) travel_mode_code\",\n",
    "        \"cast(airline as string) travel_airline\",\n",
    "        \"cast(visatype as string) travel_visa_type\"\n",
    "    ]).dropDuplicates([\"cicid\"])\n",
    "\n",
    "# Print Schema\n",
    "fact_i94_us_visitor_arrivals_table.printSchema()\n",
    "\n",
    "# write fact_i94_us_visitor_arrivals_table to parquet files\n",
    "# partitioned by arrival_year and arrival_month\n",
    "fact_i94_us_visitor_arrivals_table.write.mode(\"overwrite\") \\\n",
    "    .partitionBy(\"arrival_year\", \"arrival_month\") \\\n",
    "    .parquet(\"./tables/fact_i94_us_visitor_arrivals_table.parquet\")"
   ]
  },
  {
   "cell_type": "code",
   "execution_count": 24,
   "metadata": {
    "editable": true
   },
   "outputs": [
    {
     "name": "stdout",
     "output_type": "stream",
     "text": [
      "root\n",
      " |-- arrival_date: date (nullable = true)\n",
      " |-- day: integer (nullable = true)\n",
      " |-- week: integer (nullable = true)\n",
      " |-- month: integer (nullable = true)\n",
      " |-- year: integer (nullable = true)\n",
      " |-- quarter: integer (nullable = true)\n",
      "\n"
     ]
    }
   ],
   "source": [
    "# Generate dim_date_table from df_immigrations dataframe\n",
    "dim_date_table = df_immigrations \\\n",
    "    .filter(df_immigrations.arrival_date.isNotNull()) \\\n",
    "    .selectExpr([\n",
    "        \"cast(arrival_date as date) arrival_date\",\n",
    "        \"cast(dayofmonth(arrival_date) as int) day\",\n",
    "        \"cast(weekofyear(arrival_date) as int) week\",\n",
    "        \"cast(month(arrival_date) as int) month\",\n",
    "        \"cast(year(arrival_date) as int) year\",\n",
    "        \"cast(quarter(arrival_date) as int) quarter\"\n",
    "    ]).dropDuplicates([\"arrival_date\"])\n",
    "\n",
    "# Print Schema\n",
    "dim_date_table.printSchema()\n",
    "\n",
    "# write dim_date_table to parquet files partitioned by year and month\n",
    "dim_date_table.write.mode(\"overwrite\").partitionBy(\"year\", \"month\") \\\n",
    "    .parquet(\"./tables/dim_date_table.parquet\")"
   ]
  },
  {
   "cell_type": "code",
   "execution_count": 25,
   "metadata": {
    "editable": true
   },
   "outputs": [
    {
     "name": "stdout",
     "output_type": "stream",
     "text": [
      "root\n",
      " |-- year: integer (nullable = true)\n",
      " |-- month: integer (nullable = true)\n",
      " |-- city: string (nullable = true)\n",
      " |-- average_temperature: decimal(4,2) (nullable = true)\n",
      "\n"
     ]
    }
   ],
   "source": [
    "# generate dim_temperatures_us_cities_table from\n",
    "# df_temperatures_us_cities dataframe\n",
    "dim_temperatures_us_cities_table = df_temperatures_us_cities \\\n",
    "    .filter(df_temperatures_us_cities.year.isNotNull() &\n",
    "            df_temperatures_us_cities.month.isNotNull() &\n",
    "            df_temperatures_us_cities.City.isNotNull()) \\\n",
    "    .selectExpr([\n",
    "        \"cast(year as int)\",\n",
    "        \"cast(month as int)\",\n",
    "        \"cast(city as string)\",\n",
    "        \"cast(average_temperature as decimal(4,2))\"\n",
    "        ]).dropDuplicates([\"year\", 'month', 'city'])\n",
    "\n",
    "# write dim_temperatures_us_cities_table to parquet files\n",
    "# partitioned by year and month\n",
    "dim_temperatures_us_cities_table.write.mode(\"overwrite\") \\\n",
    "    .partitionBy(\"year\", \"month\") \\\n",
    "    .parquet(\"./tables/dim_temperatures_us_cities_table.parquet\")\n",
    "\n",
    "# Print Schema\n",
    "dim_temperatures_us_cities_table.printSchema()"
   ]
  },
  {
   "cell_type": "code",
   "execution_count": 26,
   "metadata": {
    "editable": true
   },
   "outputs": [
    {
     "name": "stdout",
     "output_type": "stream",
     "text": [
      "root\n",
      " |-- year: integer (nullable = true)\n",
      " |-- month: integer (nullable = true)\n",
      " |-- country: string (nullable = true)\n",
      " |-- average_temperature: decimal(4,2) (nullable = true)\n",
      "\n"
     ]
    }
   ],
   "source": [
    "# generate dim_temperatures_countries_table from\n",
    "# df_temperatures_countries dataframe\n",
    "dim_temperatures_countries_table = df_temperatures_countries \\\n",
    "    .filter(df_temperatures_countries.year.isNotNull() &\n",
    "            df_temperatures_countries.month.isNotNull() &\n",
    "            df_temperatures_countries.Country.isNotNull()) \\\n",
    "    .selectExpr([\n",
    "        \"cast(year as int)\",\n",
    "        \"cast(month as int)\",\n",
    "        \"cast(country as string)\",\n",
    "        \"cast(average_temperature as decimal(4,2))\"\n",
    "        ]).dropDuplicates([\"year\", 'month', 'country'])\n",
    "\n",
    "# write dim_temperatures_countries_table to parquet files\n",
    "# partitioned by year and month\n",
    "dim_temperatures_countries_table.write.mode(\"overwrite\") \\\n",
    "    .partitionBy(\"year\", \"month\") \\\n",
    "    .parquet(\"./tables/dim_temperatures_countries_table.parquet\")\n",
    "\n",
    "# Print Schema\n",
    "dim_temperatures_countries_table.printSchema()"
   ]
  },
  {
   "cell_type": "code",
   "execution_count": 27,
   "metadata": {
    "editable": true
   },
   "outputs": [
    {
     "name": "stdout",
     "output_type": "stream",
     "text": [
      "root\n",
      " |-- state: string (nullable = true)\n",
      " |-- state_code: string (nullable = true)\n",
      " |-- city: string (nullable = true)\n",
      " |-- median_age: decimal(4,1) (nullable = true)\n",
      " |-- male_population: integer (nullable = true)\n",
      " |-- female_population: integer (nullable = true)\n",
      " |-- total_population: integer (nullable = true)\n",
      " |-- number_of_veterans: integer (nullable = true)\n",
      " |-- number_of_foregn_born: integer (nullable = true)\n",
      " |-- avarage_household_size: decimal(4,2) (nullable = true)\n",
      " |-- american_indian_alaska_native: integer (nullable = true)\n",
      " |-- asian: integer (nullable = true)\n",
      " |-- black_or_africanamerican: integer (nullable = true)\n",
      " |-- hispanic_or_latino: integer (nullable = true)\n",
      " |-- white: integer (nullable = true)\n",
      "\n"
     ]
    }
   ],
   "source": [
    "# generate dim_cities_demographic_table from cities_demographic dataframe\n",
    "dim_cities_demographic_table = df_cities_demographic \\\n",
    "    .filter(df_cities_demographic.State.isNotNull() &\n",
    "            df_cities_demographic.City.isNotNull()) \\\n",
    "    .selectExpr([\n",
    "        \"cast(state as string)\",\n",
    "        \"cast(`State Code` as string) state_code\",\n",
    "        \"cast(city as string)\",\n",
    "        \"cast(`Median Age` as decimal(4,1)) median_age\",\n",
    "        \"cast(`Male Population` as int) male_population\",\n",
    "        \"cast(`Female Population` as int) female_population\",\n",
    "        \"cast(`Total Population` as int) total_population\",\n",
    "        \"cast(`Number of Veterans` as int) number_of_veterans\",\n",
    "        \"cast(`Foreign-born` as int) number_of_foregn_born\",\n",
    "        \"cast(`Average Household Size` as decimal(4,2)) \\\n",
    "            avarage_household_size\",\n",
    "        \"cast(`American Indian and Alaska Native` as int) \\\n",
    "            american_indian_alaska_native\",\n",
    "        \"cast(`Asian` as int) asian\",\n",
    "        \"cast(`Black or African-American` as int) \\\n",
    "            black_or_africanamerican\",\n",
    "        \"cast(`Hispanic or Latino` as int) hispanic_or_latino\",\n",
    "        \"cast(`White` as int) white\"\n",
    "        ]).dropDuplicates([\"state\", 'city'])\n",
    "\n",
    "# write dim_cities_demographic_table to parquet files\n",
    "dim_cities_demographic_table.write.mode(\"overwrite\") \\\n",
    "    .parquet(\"./tables/dim_cities_demographic_table.parquet\")\n",
    "\n",
    "# Print Schema\n",
    "dim_cities_demographic_table.printSchema()"
   ]
  },
  {
   "cell_type": "code",
   "execution_count": 28,
   "metadata": {
    "editable": true
   },
   "outputs": [
    {
     "name": "stdout",
     "output_type": "stream",
     "text": [
      "root\n",
      " |-- country_code: integer (nullable = true)\n",
      " |-- country: string (nullable = true)\n",
      "\n"
     ]
    }
   ],
   "source": [
    "# generate dim_i94_country_table from df_i94_country dataframe\n",
    "dim_i94_country_table = df_i94_country \\\n",
    "    .withColumn('country_code', regexp_replace('country_code', ' ', '')) \\\n",
    "    .filter(df_i94_country.country_code.isNotNull()) \\\n",
    "    .selectExpr([\n",
    "        \"cast(country_code as int)\",\n",
    "        \"cast(country as string)\"\n",
    "    ]).dropDuplicates([\"country_code\"])\n",
    "\n",
    "# write dim_i94_country_table to parquet files\n",
    "dim_i94_country_table.write.mode(\"overwrite\") \\\n",
    "    .parquet(\"./tables/dim_i94_country_table.parquet\")\n",
    "\n",
    "# Print Schema\n",
    "dim_i94_country_table.printSchema()"
   ]
  },
  {
   "cell_type": "code",
   "execution_count": 29,
   "metadata": {
    "editable": true
   },
   "outputs": [
    {
     "name": "stdout",
     "output_type": "stream",
     "text": [
      "root\n",
      " |-- port_code: string (nullable = true)\n",
      " |-- city: string (nullable = true)\n",
      " |-- state_code: string (nullable = true)\n",
      " |-- state: string (nullable = true)\n",
      "\n"
     ]
    }
   ],
   "source": [
    "# generate dim_i94_port_table from df_i94_port dataframe and df_i94_state\n",
    "dim_i94_port_table = df_i94_port \\\n",
    "    .join(df_i94_state, 'state_code') \\\n",
    "    .filter(df_i94_port.port_code.isNotNull()) \\\n",
    "    .selectExpr([\n",
    "        \"cast(port_code as string)\",\n",
    "        \"cast(city as string)\",\n",
    "        \"cast(state_code as string) state_code\",\n",
    "        \"cast(state as string)\"\n",
    "    ]).dropDuplicates([\"port_code\"])\n",
    "\n",
    "# write dim_i94_port_table to parquet files\n",
    "dim_i94_port_table.write.mode(\"overwrite\") \\\n",
    "    .parquet(\"./tables/dim_i94_port_table.parquet\")\n",
    "\n",
    "# Print Schema\n",
    "dim_i94_port_table.printSchema()"
   ]
  },
  {
   "cell_type": "code",
   "execution_count": 30,
   "metadata": {
    "editable": true
   },
   "outputs": [
    {
     "name": "stdout",
     "output_type": "stream",
     "text": [
      "root\n",
      " |-- travel_mode_code: integer (nullable = true)\n",
      " |-- travel_mode: string (nullable = true)\n",
      "\n"
     ]
    }
   ],
   "source": [
    "# generate dim_travel_mode_table from df_i94_mode dataframe\n",
    "dim_i94_travel_mode_table = df_i94_mode \\\n",
    "    .withColumn('travel_mode_code',\n",
    "                regexp_replace('travel_mode_code', ' ', '')) \\\n",
    "    .selectExpr([\n",
    "        \"cast(travel_mode_code as int)\",\n",
    "        \"cast(travel_mode as string)\"\n",
    "    ]).dropDuplicates([\"travel_mode_code\"])\n",
    "\n",
    "# write dim_i94_travel_mode_table to parquet files\n",
    "dim_i94_travel_mode_table.write.mode(\"overwrite\") \\\n",
    "    .parquet(\"./tables/dim_i94_travel_mode_table.parquet\")\n",
    "\n",
    "# Print Schema\n",
    "dim_i94_travel_mode_table.printSchema()"
   ]
  },
  {
   "cell_type": "markdown",
   "metadata": {
    "editable": true
   },
   "source": [
    "#### 3.2 Mapping Out Data Pipelines\n",
    "List the steps necessary to pipeline the data into the chosen data model\n",
    "1. Build a spark session\n",
    "2. Process Temperature Data\n",
    "    - Load and clean Temperature data \n",
    "    - Filter \"United States\" temperature data and aggregate into dim_temperatures_us_cities_table\n",
    "    - Write dim_temperatures_us_cities_table to parquet files partitioned by year and month\n",
    "    - Filter out \"United States\" temperature data and aggregate into dim_temperatures_us_cities_table\n",
    "    - Write dim_temperatures_countries_table to parquet files partitioned by year and month\n",
    "3. Process Cities Demographic Data\n",
    "    - Load and clean Cities Demographic data \n",
    "    - Aggregate Cities Demographic dataframe by Race with Count\n",
    "    - Write dim_cities_demographic_table to parquet files\n",
    "4. Process I94 SAS Labels Data\n",
    "    - Load, clean and parse i94_sas_labels data\n",
    "    - Generate dim_i94_country_table and write to parquet files\n",
    "    - Generate dim_i94_port_table and write to parquet files\n",
    "    - Generate dim_i94_travel_mode_table and write to parquet files\n",
    "5. Process Immigration I94 Data\n",
    "    - Load and clean Immigration I94 data\n",
    "    - Filter visitor data that visited for pleasure\n",
    "    - Convert sasdate to datetime\n",
    "    - Generate dim_date_table and write to parquet files partitioned by year and month\n",
    "    - Generate fact_i94_us_visitor_arrivals_table and write to parquet files partitioned by arrival_year and arrival_month"
   ]
  },
  {
   "cell_type": "markdown",
   "metadata": {
    "editable": true
   },
   "source": [
    "### Step 4: Run Pipelines to Model the Data \n",
    "#### 4.1 Create the data model\n",
    "Build the data pipelines to create the data model.\n",
    "\n",
    "'etl.py' can parse data and create/update the data model as Data Pipeline."
   ]
  },
  {
   "cell_type": "code",
   "execution_count": 31,
   "metadata": {
    "editable": true
   },
   "outputs": [],
   "source": [
    "# %run ./etl.py"
   ]
  },
  {
   "cell_type": "markdown",
   "metadata": {
    "editable": true
   },
   "source": [
    "#### 4.2 Data Quality Checks\n",
    "Explain the data quality checks you'll perform to ensure the pipeline ran as expected. These could include:\n",
    " * Integrity constraints on the relational database (e.g., unique key, data type, etc.)\n",
    " * Unit tests for the scripts to ensure they are doing the right thing\n",
    " * Source/Count checks to ensure completeness\n",
    " \n",
    "Run Quality Checks"
   ]
  },
  {
   "cell_type": "code",
   "execution_count": 33,
   "metadata": {
    "editable": true
   },
   "outputs": [
    {
     "name": "stdout",
     "output_type": "stream",
     "text": [
      "fact_i94_us_visitor_arrivals_table is processing now, it has 2530642 rows\n",
      "+-----+------------+-------------+------------+-----------------+---------------------+-------------------------+-----------+--------------+----------------+--------------+----------------+\n",
      "|cicid|arrival_year|arrival_month|arrival_date|arrival_port_code|visitor_birth_country|visitor_residence_country|visitor_age|visitor_gender|travel_mode_code|travel_airline|travel_visa_type|\n",
      "+-----+------------+-------------+------------+-----------------+---------------------+-------------------------+-----------+--------------+----------------+--------------+----------------+\n",
      "|   29|        2016|            4|  2016-04-01|              ATL|                  101|                      101|         62|             M|               1|            AZ|              B2|\n",
      "|  474|        2016|            4|  2016-04-01|              NEW|                  103|                      103|         25|             F|               2|           VES|              WT|\n",
      "|  964|        2016|            4|  2016-04-01|              NEW|                  104|                      104|         57|             F|               1|            UA|              WT|\n",
      "| 1677|        2016|            4|  2016-04-01|              MIA|                  104|                      104|         50|             F|               1|            UX|              WT|\n",
      "| 1697|        2016|            4|  2016-04-01|              MIA|                  104|                      104|         25|             M|               1|            LX|              WT|\n",
      "+-----+------------+-------------+------------+-----------------+---------------------+-------------------------+-----------+--------------+----------------+--------------+----------------+\n",
      "only showing top 5 rows\n",
      "\n",
      "dim_date_table is processing now, it has 30 rows\n",
      "+------------+---+----+-----+----+-------+\n",
      "|arrival_date|day|week|month|year|quarter|\n",
      "+------------+---+----+-----+----+-------+\n",
      "|  2016-04-25| 25|  17|    4|2016|      2|\n",
      "|  2016-04-22| 22|  16|    4|2016|      2|\n",
      "|  2016-04-30| 30|  17|    4|2016|      2|\n",
      "|  2016-04-26| 26|  17|    4|2016|      2|\n",
      "|  2016-04-04|  4|  14|    4|2016|      2|\n",
      "+------------+---+----+-----+----+-------+\n",
      "only showing top 5 rows\n",
      "\n",
      "dim_temperatures_us_cities_table is processing now, it has 639649 rows\n",
      "+----+-----+-------------+-------------------+\n",
      "|year|month|         city|average_temperature|\n",
      "+----+-----+-------------+-------------------+\n",
      "|2013|    9|      Yonkers|              17.00|\n",
      "|2013|    9|    Worcester|              16.00|\n",
      "|2013|    9|Winston Salem|              22.00|\n",
      "|2013|    9|      Windsor|              18.00|\n",
      "|2013|    9|Wichita Falls|              26.00|\n",
      "+----+-----+-------------+-------------------+\n",
      "only showing top 5 rows\n",
      "\n",
      "dim_temperatures_countries_table is processing now, it has 371431 rows\n",
      "+----+-----+-----------+-------------------+\n",
      "|year|month|    country|average_temperature|\n",
      "+----+-----+-----------+-------------------+\n",
      "|2013|    9|Puerto Rico|              28.00|\n",
      "|2013|    9|  Nicaragua|              28.50|\n",
      "|2013|    9|     Mexico|              23.75|\n",
      "|2013|    9|    Jamaica|              28.67|\n",
      "|2013|    9|   Honduras|              26.80|\n",
      "+----+-----+-----------+-------------------+\n",
      "only showing top 5 rows\n",
      "\n",
      "dim_cities_demographic_table is processing now, it has 588 rows\n",
      "+---------+----------+--------+----------+---------------+-----------------+----------------+------------------+---------------------+----------------------+-----------------------------+-----+------------------------+------------------+------+\n",
      "|    state|state_code|    city|median_age|male_population|female_population|total_population|number_of_veterans|number_of_foregn_born|avarage_household_size|american_indian_alaska_native|asian|black_or_africanamerican|hispanic_or_latino| white|\n",
      "+---------+----------+--------+----------+---------------+-----------------+----------------+------------------+---------------------+----------------------+-----------------------------+-----+------------------------+------------------+------+\n",
      "|Wisconsin|        WI| Oshkosh|      33.0|          32905|            33652|           66557|              3809|                 2348|                  2.30|                          237| 3182|                    2778|              1972| 60210|\n",
      "|Wisconsin|        WI|  Racine|      33.7|          39314|            38423|           77737|              4650|                 4403|                  2.56|                         1371| 1175|                   20014|             18215| 52445|\n",
      "|Wisconsin|        WI|Waukesha|      35.8|          36263|            35713|           71976|              3116|                 4982|                  2.35|                          481| 2904|                    1923|              9713| 66757|\n",
      "|Wisconsin|        WI| Kenosha|      36.3|          49349|            50507|           99856|              6238|                 7443|                  2.55|                         1264| 2537|                   11915|             18772| 84780|\n",
      "|Wisconsin|        WI| Madison|      30.7|         122596|           126360|          248956|              9707|                30090|                  2.23|                         2296|23937|                   20424|             19697|204302|\n",
      "+---------+----------+--------+----------+---------------+-----------------+----------------+------------------+---------------------+----------------------+-----------------------------+-----+------------------------+------------------+------+\n",
      "only showing top 5 rows\n",
      "\n",
      "dim_i94_country_table is processing now, it has 289 rows\n",
      "+------------+--------------------+\n",
      "|country_code|             country|\n",
      "+------------+--------------------+\n",
      "|         471|INVALID: MARIANA ...|\n",
      "|         243|               BURMA|\n",
      "|         392|                MALI|\n",
      "|         737|INVALID: MIDWAY I...|\n",
      "|         516| TRINIDAD AND TOBAGO|\n",
      "+------------+--------------------+\n",
      "only showing top 5 rows\n",
      "\n",
      "dim_i94_port_table is processing now, it has 549 rows\n",
      "+---------+----------+----------+-------------+\n",
      "|port_code|      city|state_code|        state|\n",
      "+---------+----------+----------+-------------+\n",
      "|      BGM|    BANGOR|        ME|        MAINE|\n",
      "|      FMY|FORT MYERS|        FL|      FLORIDA|\n",
      "|      LEB|   LEBANON|        NH|NEW HAMPSHIRE|\n",
      "|      DNS|  DUNSEITH|        ND|    N. DAKOTA|\n",
      "|      EGL|     EAGLE|        AK|       ALASKA|\n",
      "+---------+----------+----------+-------------+\n",
      "only showing top 5 rows\n",
      "\n",
      "dim_i94_travel_mode_table is processing now, it has 4 rows\n",
      "+----------------+-------------+\n",
      "|travel_mode_code|  travel_mode|\n",
      "+----------------+-------------+\n",
      "|               1|          Air|\n",
      "|               3|         Land|\n",
      "|               9|Not reported |\n",
      "|               2|          Sea|\n",
      "+----------------+-------------+\n",
      "\n"
     ]
    }
   ],
   "source": [
    "def quality_check(table,tablename):\n",
    "    \"\"\"\n",
    "    - Check whether the table created or not\n",
    "    - Count table rows number and raise error if it has no row.\n",
    "    \"\"\"\n",
    "    if table is None:\n",
    "        print(f\"{tablename} is not exist\")\n",
    "        raise ValueError(f\"Table is not exist\")\n",
    "    \n",
    "    # Count number of rows for given table    \n",
    "    count = table.count()\n",
    "    print(f\"{tablename} is processing now, it has {count} rows\")\n",
    "    if not count > 0 :\n",
    "        raise ValueError(f\"Data quality check failed\")\n",
    "    table.show(5)\n",
    "\n",
    "table_list = [(fact_i94_us_visitor_arrivals_table,\"fact_i94_us_visitor_arrivals_table\"),\n",
    "(dim_date_table,\"dim_date_table\"),\n",
    "(dim_temperatures_us_cities_table,\"dim_temperatures_us_cities_table\"),\n",
    "(dim_temperatures_countries_table,\"dim_temperatures_countries_table\"),\n",
    "(dim_cities_demographic_table,\"dim_cities_demographic_table\"),\n",
    "(dim_i94_country_table,\"dim_i94_country_table\"),\n",
    "(dim_i94_port_table,\"dim_i94_port_table\"),\n",
    "(dim_i94_travel_mode_table,\"dim_i94_travel_mode_table\")]\n",
    "\n",
    "for table in table_list: quality_check(table[0],table[1])"
   ]
  },
  {
   "cell_type": "markdown",
   "metadata": {
    "editable": true
   },
   "source": [
    "#### 4.3 Data dictionary \n",
    "Create a data dictionary for your data model. For each field, provide a brief description of what the data is and where it came from. You can include the data dictionary in the notebook or in a separate file."
   ]
  },
  {
   "cell_type": "markdown",
   "metadata": {
    "editable": true
   },
   "source": [
    "#### DICTIONARY - fact_i94_us_visitor_arrivals_table\n",
    "| Column Name               | Descriptions                                                                         |\n",
    "|---------------------------|--------------------------------------------------------------------------------------|\n",
    "| cicid                     | Uniq id for   non-us visitors i94 entry form                                         |\n",
    "| arrival_year              | Arrival Year as YYYY                                                                 |\n",
    "| arrival_month             | Arrival Month as MM                                                                  |\n",
    "| arrival_date              | Arrival date to US as   YYYY-MM-DD format                                            |\n",
    "| arrival_port_code         | Arrival Port code as   3 digits String                                               |\n",
    "| visitor_birth_country     | Visiter's nationality   country as 3 digits integer                                  |\n",
    "| visitor_residence_country | Visiter's residence   country as 3 digits integer                                    |\n",
    "| visitor_age               | Age of Visitor in   Years                                                            |\n",
    "| visitor_gender            | Visiter's Sex                                                                        |\n",
    "| travel_mode_code          | Transportation   mode, there are missing values as well as not reported (9)          |\n",
    "| travel_airline            | Airline used to   arrive in U.S.                                                     |\n",
    "| travel_visa_type          | Class of admission   legally admitting the non-immigrant to temporarily stay in U.S. |\n",
    "\n",
    "#### DICTIONARY - dim_date_table\n",
    "| Column Name                      | Descriptions                                                      |\n",
    "|----------------------------------|-------------------------------------------------------------------|\n",
    "| arriving_date                    | Arrival date to US as   YYYY-MM-DD format                         |\n",
    "| day                              | Arrival Day to US                                                 |\n",
    "| week                             | Arrival Week number   to US                                       |\n",
    "| month                            | Arrival Month number   to US                                      |\n",
    "| year                             | Arrival Year to US                                                |\n",
    "| quarter                          | Arrival Quarter   number to US                                    |\n",
    "\n",
    "#### DICTIONARY - dim_temperatures_us_cities_table\n",
    "| Column Name                      | Descriptions                                                      |\n",
    "|----------------------------------|-------------------------------------------------------------------|\n",
    "| year                             | Year of temperature record                                        |\n",
    "| month                            | Month number of temperature record                                |\n",
    "| city                             | US city name of temperature record                                |\n",
    "| average_temperature              | Monthly Average temperature for given US city                     |\n",
    "\n",
    "\n",
    "#### DICTIONARY - dim_temperatures_countries_table\n",
    "| Column Name                      | Descriptions                                                      |\n",
    "|----------------------------------|-------------------------------------------------------------------|\n",
    "| year                             | Year of temperature record                                        |\n",
    "| month                            | Month number of temperature record                                |\n",
    "| country                          | Country name of temperature record                                |\n",
    "| average_temperature              | Monthly Average temperature for given Country                     |\n",
    "\n",
    "#### DICTIONARY - dim_cities_demographic_table\n",
    "| Column Name                      | Descriptions                                                      |\n",
    "|----------------------------------|-------------------------------------------------------------------|\n",
    "| state                            | US state name                                                     |\n",
    "| state_code                       | US state code as 2 letters                                        |\n",
    "| city                             | US city name                                                      |\n",
    "| median_age                       | The median of the age of the   population                         |\n",
    "| male_population                  | Number of the   male population                                   |\n",
    "| female_population                | Number of the   female population                                 |\n",
    "| total_population                 | Number of the   total population                                  |\n",
    "| number_of_veterans               | Number of   veterans residents in given city                      |\n",
    "| number_of_foregn_born            | Number of residents who born in   foregn country                  |\n",
    "| avarage_household_size           | Average size of houses in given   city                            |\n",
    "| american_indian_alaska_native    | Number of american indian alaska   native residents in given city |\n",
    "| asian                            | Number of asian   residents in given city                         |\n",
    "| black_or_africanamerican         | Number of black   or african-american residents in given city     |\n",
    "| hispanic_or_latino               | Number of   hispanic or latino residents in given city            |\n",
    "| white                            | Number of white   residents in given city                         |\n",
    "\n",
    "#### DICTIONARY - dim_i94_country_table\n",
    "| Column Name                      | Descriptions                                                      |\n",
    "|----------------------------------|-------------------------------------------------------------------|\n",
    "| country_code                     | 3 digits integer code stands for   country                        |\n",
    "| country                          | Country name                                                      |\n",
    "\n",
    "#### DICTIONARY - dim_i94_port_table\n",
    "| Column Name                      | Descriptions                                                      |\n",
    "|----------------------------------|-------------------------------------------------------------------|\n",
    "| port_code                        | 3 letters code stands for Ports                                   |\n",
    "| city                             | City name                                                         |\n",
    "| state_code                       | 2 letters code stands for US   States                             |\n",
    "| state                            | US States name                                                    |\n",
    "\n",
    "#### DICTIONARY - dim_i94_travel_mode_table\n",
    "| Column Name                      | Descriptions                                                      |\n",
    "|----------------------------------|-------------------------------------------------------------------|\n",
    "| travel_mode_code                 | 1 digit for mode of trasnsportation                               |\n",
    "| travel_mode                      | Mode of transportation                                            |"
   ]
  },
  {
   "cell_type": "markdown",
   "metadata": {
    "editable": true
   },
   "source": [
    "#### Step 5: Complete Project Write Up\n",
    "\n",
    "* **Clearly state the rationale for the choice of tools and technologies for the project:**\n",
    "\n",
    "  It is built to run on AWS Cloud due to the fact that the source data is huge, it requires high processing power and storage that can not be handled on a local PC. AWS S3 Bucket is scalable and faster to access from processing Unit. The Pipeline run periodically so we will use some resources occasionally. AWS Cloud Services provide cheaper solution called \"pay as you go\" that is fitting well for our design as a cost-effective solution. Apache Spark is immensely powerful to process data faster in a parallel and failure tolerant way. Apache Spark has several built-in libraries that makes easy by selecting familiar methods.\n",
    "\n",
    "\n",
    "* **Propose how often the data should be updated and why:**\n",
    "\n",
    "  The Data Pipeline can be run by monthly due to the fact output parquet files are partitioned by year and month. So, it will make sense to parse I94 Immigration data and   temperature data monthly, however US City Demographics data is not frequently updated like once a decade so it might be run when the source data updated.\n",
    "\n",
    "\n",
    "* Write a description of how you would approach the problem differently under the following scenarios:\n",
    " * **The data was increased by 100x:**\n",
    "   For storage perspective, Amazon S3 Bucket is already right solution and can be scaled. For data processing purpuso Apache Spark can be deployed in AWS EMR as a cluster to increase processing capacity. \n",
    "   \n",
    " * **The data populates a dashboard that must be updated on a daily basis by 7am every day:**\n",
    "   APACHE AIRFLOW is the solution for scheduling Pipeline and monitor the processes on a simple dashboard. \n",
    "   \n",
    " * **The database needed to be accessed by 100+ people:**\n",
    "   AWS REDSHIFT could be a smart solution to make the output data accessible for 100+ people since it is easy to scale our Apache parquet files to AWS REDSHIFT cluster that can be queried by many people concurrently.\n"
   ]
  }
 ],
 "metadata": {
  "kernelspec": {
   "display_name": "Python 3",
   "language": "python",
   "name": "python3"
  },
  "language_info": {
   "codemirror_mode": {
    "name": "ipython",
    "version": 3
   },
   "file_extension": ".py",
   "mimetype": "text/x-python",
   "name": "python",
   "nbconvert_exporter": "python",
   "pygments_lexer": "ipython3",
   "version": "3.6.3"
  }
 },
 "nbformat": 4,
 "nbformat_minor": 4
}
